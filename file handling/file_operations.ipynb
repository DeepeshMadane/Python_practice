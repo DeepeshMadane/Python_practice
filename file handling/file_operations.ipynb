{
 "cells": [
  {
   "cell_type": "markdown",
   "metadata": {},
   "source": [
    "File Operations - Read and Write files\n",
    " \n",
    "File handling is a crucial part of any programming language. Python provides built-in functions and methods to read from and write to files,both text and binary. This lesson will cover the basics of file handling,including reading and writing files and binary files."
   ]
  },
  {
   "cell_type": "code",
   "execution_count": 1,
   "metadata": {},
   "outputs": [
    {
     "name": "stdout",
     "output_type": "stream",
     "text": [
      "hello how are you \n",
      "\n"
     ]
    }
   ],
   "source": [
    "## Read a whole file\n",
    "with open('example.txt',mode='r')as file:\n",
    "    content = file.read()\n",
    "    print(content)\n",
    "    "
   ]
  },
  {
   "cell_type": "code",
   "execution_count": 3,
   "metadata": {},
   "outputs": [
    {
     "name": "stdout",
     "output_type": "stream",
     "text": [
      "hello how are you\n",
      "welcome to the practice session\n",
      "keep practing and keep succeding\n",
      "welcome\n"
     ]
    }
   ],
   "source": [
    "## read a file line by line\n",
    "with open('example.txt',mode='r')as file:\n",
    "    for line in file:\n",
    "        print(line.strip())## with strip will removes the new line characters"
   ]
  },
  {
   "cell_type": "code",
   "execution_count": 6,
   "metadata": {},
   "outputs": [],
   "source": [
    "## writing a file\n",
    "with open('example.txt',mode='w')as file:\n",
    "    file.write('Hello world!\\n')\n",
    "    file.write('This is a new line\\n')\n",
    "    ## entire content will be overwrittern by this\n"
   ]
  },
  {
   "cell_type": "code",
   "execution_count": 9,
   "metadata": {},
   "outputs": [],
   "source": [
    "## writing without getting overwrittern \n",
    "with open('example.txt',mode='a')as file:## appending file\n",
    "    file.write('Hello World2!\\n')\n",
    "    file.write('this is new line 2\\n')"
   ]
  },
  {
   "cell_type": "code",
   "execution_count": 10,
   "metadata": {},
   "outputs": [],
   "source": [
    "## writing a list of line to a file\n",
    "lines=['First line\\n','Second line\\n','Third line\\n']\n",
    "with open('example.txt',mode='a')as file:\n",
    "    file.writelines(lines)\n"
   ]
  },
  {
   "cell_type": "code",
   "execution_count": 11,
   "metadata": {},
   "outputs": [],
   "source": [
    "## Binary Files\n",
    "\n",
    "data =b'\\x00\\x01\\x02\\x03\\x04'\n",
    "with open('example.bin',mode='wb')as file:\n",
    "    file.write(data)"
   ]
  },
  {
   "cell_type": "code",
   "execution_count": 12,
   "metadata": {},
   "outputs": [
    {
     "name": "stdout",
     "output_type": "stream",
     "text": [
      "b'\\x00\\x01\\x02\\x03\\x04'\n"
     ]
    }
   ],
   "source": [
    "with open('example.bin',mode='rb')as file:\n",
    "    content=file.read()\n",
    "    print(content)"
   ]
  },
  {
   "cell_type": "code",
   "execution_count": 14,
   "metadata": {},
   "outputs": [],
   "source": [
    "## read the content from sorce text file to destination text file\n",
    "with open('example.txt',mode='r')as file:\n",
    "    content=file.read()\n",
    "\n",
    "with open('destination.txt',mode='w')as file:\n",
    "    file.write(content)"
   ]
  },
  {
   "cell_type": "code",
   "execution_count": 17,
   "metadata": {},
   "outputs": [
    {
     "name": "stdout",
     "output_type": "stream",
     "text": [
      "Lines:11,Words:32,Characters:165\n"
     ]
    }
   ],
   "source": [
    "## read a text file and count the number number of lines ,words,characters.\n",
    "# count lines , words and char in a text file\n",
    "def counting(file_path):\n",
    "    with open(file_path,mode='r')as file:\n",
    "        lines=file.readlines()\n",
    "        line_count=len(lines)\n",
    "        word_count=sum(len(line.split()) for line in lines)\n",
    "        char_count = sum(len(line) for line in lines)\n",
    "    return line_count,word_count,char_count\n",
    "\n",
    "file_path='example.txt'\n",
    "lines,words,char=counting(file_path)\n",
    "print(f'Lines:{lines},Words:{words},Characters:{char}')"
   ]
  },
  {
   "cell_type": "code",
   "execution_count": 19,
   "metadata": {},
   "outputs": [
    {
     "name": "stdout",
     "output_type": "stream",
     "text": [
      "Hello new line\n",
      "file added\n",
      "\n"
     ]
    }
   ],
   "source": [
    "## writing and reading file\n",
    "with open('example.txt',mode='w+')as file:\n",
    "    file.write('Hello new line\\n')\n",
    "    file.write('file added\\n')\n",
    "\n",
    "\n",
    "\n",
    "    ## Move the cursor to the beginning\n",
    "    file.seek(0)\n",
    "    content=file.read()\n",
    "    print(content)\n"
   ]
  },
  {
   "cell_type": "code",
   "execution_count": null,
   "metadata": {},
   "outputs": [],
   "source": []
  }
 ],
 "metadata": {
  "kernelspec": {
   "display_name": ".myvenv",
   "language": "python",
   "name": "python3"
  },
  "language_info": {
   "codemirror_mode": {
    "name": "ipython",
    "version": 3
   },
   "file_extension": ".py",
   "mimetype": "text/x-python",
   "name": "python",
   "nbconvert_exporter": "python",
   "pygments_lexer": "ipython3",
   "version": "3.12.1"
  }
 },
 "nbformat": 4,
 "nbformat_minor": 2
}
