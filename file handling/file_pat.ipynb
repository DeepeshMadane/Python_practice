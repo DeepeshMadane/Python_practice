{
 "cells": [
  {
   "cell_type": "code",
   "execution_count": 1,
   "metadata": {},
   "outputs": [
    {
     "name": "stdout",
     "output_type": "stream",
     "text": [
      "Directory package created\n"
     ]
    }
   ],
   "source": [
    "# create a new directory\n",
    "import os\n",
    "new_directory='package'\n",
    "os.mkdir(new_directory)\n",
    "print(f'Directory {new_directory} created')"
   ]
  },
  {
   "cell_type": "code",
   "execution_count": 2,
   "metadata": {},
   "outputs": [
    {
     "name": "stdout",
     "output_type": "stream",
     "text": [
      "['.myvenv', 'destination.txt', 'example.bin', 'example.csv', 'example.txt', 'file_operations.ipynb', 'file_pat.ipynb', 'package', 'source.txt', 'test.ipynb']\n"
     ]
    }
   ],
   "source": [
    "## sting file and directories from afolder\n",
    "items=os.listdir('.')\n",
    "print(items)"
   ]
  },
  {
   "cell_type": "code",
   "execution_count": 3,
   "metadata": {},
   "outputs": [
    {
     "name": "stdout",
     "output_type": "stream",
     "text": [
      "folder\\file.txt\n"
     ]
    }
   ],
   "source": [
    "##   joining paths\n",
    "dir_name='folder'\n",
    "file_name='file.txt'\n",
    "full_path = os.path.join(dir_name,file_name)\n",
    "print(full_path)\n"
   ]
  },
  {
   "cell_type": "code",
   "execution_count": 4,
   "metadata": {},
   "outputs": [
    {
     "name": "stdout",
     "output_type": "stream",
     "text": [
      "d:\\Machine learning\\Python basics to advance\\file handling\\folder\\file.txt\n"
     ]
    }
   ],
   "source": [
    "## full path \n",
    "dir_name='folder'\n",
    "file_name='file.txt'\n",
    "full_path = os.path.join(os.getcwd(),dir_name,file_name)\n",
    "print(full_path)"
   ]
  },
  {
   "cell_type": "code",
   "execution_count": 5,
   "metadata": {},
   "outputs": [
    {
     "name": "stdout",
     "output_type": "stream",
     "text": [
      "Path example1.txt not exists\n"
     ]
    }
   ],
   "source": [
    "#\n",
    "path='example1.txt'\n",
    "if os.path.exists(path):\n",
    "    print(f\"path {path} exists\")\n",
    "else:\n",
    "    print(f\"Path {path} not exists\")"
   ]
  },
  {
   "cell_type": "code",
   "execution_count": 6,
   "metadata": {},
   "outputs": [
    {
     "name": "stdout",
     "output_type": "stream",
     "text": [
      "the path example.txt is a file\n"
     ]
    }
   ],
   "source": [
    "## checking if a path is file or directory\n",
    "\n",
    "path='example.txt'\n",
    "if os.path.isfile(path):\n",
    "    print(f\"the path {path} is a file\")\n",
    "elif os.path.isdir(path):\n",
    "    print(f\"The path is {path} is a directory\")\n",
    "else:\n",
    "    print(F\"The path {path} is niether file nor directory\")"
   ]
  },
  {
   "cell_type": "code",
   "execution_count": 7,
   "metadata": {},
   "outputs": [
    {
     "name": "stdout",
     "output_type": "stream",
     "text": [
      "d:\\Machine learning\\Python basics to advance\\file handling\\example.txt\n"
     ]
    }
   ],
   "source": [
    "# getting absolute path\n",
    "relative_path='example.txt'\n",
    "absolute_path=os.path.abspath(relative_path)\n",
    "print(absolute_path)"
   ]
  },
  {
   "cell_type": "code",
   "execution_count": null,
   "metadata": {},
   "outputs": [],
   "source": []
  }
 ],
 "metadata": {
  "kernelspec": {
   "display_name": ".myvenv",
   "language": "python",
   "name": "python3"
  },
  "language_info": {
   "codemirror_mode": {
    "name": "ipython",
    "version": 3
   },
   "file_extension": ".py",
   "mimetype": "text/x-python",
   "name": "python",
   "nbconvert_exporter": "python",
   "pygments_lexer": "ipython3",
   "version": "3.12.1"
  }
 },
 "nbformat": 4,
 "nbformat_minor": 2
}
