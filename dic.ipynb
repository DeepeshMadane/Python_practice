{
 "cells": [
  {
   "cell_type": "markdown",
   "metadata": {},
   "source": [
    "Dictionaries:\n",
    "\n",
    "Dictionaries are unordered collections of items.They store data in ky value pair. keys must be unique and immuatable(eg.numbers,strings or tuple) while values can be of any type\n"
   ]
  },
  {
   "cell_type": "code",
   "execution_count": 2,
   "metadata": {},
   "outputs": [
    {
     "name": "stdout",
     "output_type": "stream",
     "text": [
      "<class 'dict'>\n"
     ]
    }
   ],
   "source": [
    "# creating dictionaries\n",
    "empty_dict={}\n",
    "print(type(empty_dict))"
   ]
  },
  {
   "cell_type": "code",
   "execution_count": 3,
   "metadata": {},
   "outputs": [
    {
     "name": "stdout",
     "output_type": "stream",
     "text": [
      "{}\n"
     ]
    }
   ],
   "source": [
    "empty_dict=dict()\n",
    "print(empty_dict)"
   ]
  },
  {
   "cell_type": "code",
   "execution_count": 4,
   "metadata": {},
   "outputs": [],
   "source": [
    "student = {'name':'Deepesh','age':25,'Grade':'A'}"
   ]
  },
  {
   "cell_type": "code",
   "execution_count": 5,
   "metadata": {},
   "outputs": [
    {
     "name": "stdout",
     "output_type": "stream",
     "text": [
      "{'name': 'Deepesh', 'age': 25, 'Grade': 'A'}\n"
     ]
    }
   ],
   "source": [
    "print(student)"
   ]
  },
  {
   "cell_type": "code",
   "execution_count": 8,
   "metadata": {},
   "outputs": [],
   "source": [
    "# error \n",
    "student = {'name':'Deepesh','age':25,'name':'A'}"
   ]
  },
  {
   "cell_type": "code",
   "execution_count": 9,
   "metadata": {},
   "outputs": [
    {
     "name": "stdout",
     "output_type": "stream",
     "text": [
      "{'name': 'A', 'age': 25}\n"
     ]
    }
   ],
   "source": [
    "print(student)"
   ]
  },
  {
   "cell_type": "code",
   "execution_count": 10,
   "metadata": {},
   "outputs": [
    {
     "data": {
      "text/plain": [
       "'A'"
      ]
     },
     "execution_count": 10,
     "metadata": {},
     "output_type": "execute_result"
    }
   ],
   "source": [
    "## accessing dict elements\n",
    "student = {'name':'Deepesh','age':25,'Grade':'A'}\n",
    "student['Grade']"
   ]
  },
  {
   "cell_type": "code",
   "execution_count": 11,
   "metadata": {},
   "outputs": [
    {
     "data": {
      "text/plain": [
       "25"
      ]
     },
     "execution_count": 11,
     "metadata": {},
     "output_type": "execute_result"
    }
   ],
   "source": [
    "student['age']"
   ]
  },
  {
   "cell_type": "code",
   "execution_count": 14,
   "metadata": {},
   "outputs": [
    {
     "name": "stdout",
     "output_type": "stream",
     "text": [
      "A\n",
      "None\n",
      "Not available\n"
     ]
    }
   ],
   "source": [
    "## accessing using get method\n",
    "print(student.get('Grade'))\n",
    "print(student.get('last_name'))\n",
    "print(student.get('last_name','Not available'))"
   ]
  },
  {
   "cell_type": "code",
   "execution_count": 15,
   "metadata": {},
   "outputs": [
    {
     "name": "stdout",
     "output_type": "stream",
     "text": [
      "{'name': 'Deepesh', 'age': 25, 'Grade': 'A'}\n"
     ]
    }
   ],
   "source": [
    "##modifying dict elements\n",
    "## dict are mutuable you can add update delete elements but key should be unique\n",
    "print(student)"
   ]
  },
  {
   "cell_type": "code",
   "execution_count": 17,
   "metadata": {},
   "outputs": [
    {
     "name": "stdout",
     "output_type": "stream",
     "text": [
      "{'name': 'Deepesh', 'age': 26, 'Grade': 'A', 'address': 'Mumbai'}\n",
      "{'name': 'Deepesh', 'age': 26, 'Grade': 'A', 'address': 'Mumbai'}\n"
     ]
    }
   ],
   "source": [
    "student['age']=26 ##update\n",
    "print(student)\n",
    "student['address']='Mumbai'## add new \n",
    "print(student)"
   ]
  },
  {
   "cell_type": "code",
   "execution_count": 18,
   "metadata": {},
   "outputs": [],
   "source": [
    "## delete \n",
    "del student['Grade']"
   ]
  },
  {
   "cell_type": "code",
   "execution_count": 19,
   "metadata": {},
   "outputs": [
    {
     "name": "stdout",
     "output_type": "stream",
     "text": [
      "{'name': 'Deepesh', 'age': 26, 'address': 'Mumbai'}\n"
     ]
    }
   ],
   "source": [
    "print(student)"
   ]
  },
  {
   "cell_type": "code",
   "execution_count": 21,
   "metadata": {},
   "outputs": [
    {
     "name": "stdout",
     "output_type": "stream",
     "text": [
      "dict_keys(['name', 'age', 'address'])\n",
      "dict_values(['Deepesh', 26, 'Mumbai'])\n"
     ]
    }
   ],
   "source": [
    "## dict methods\n",
    "keys=student.keys()\n",
    "print(keys)\n",
    "values=student.values()\n",
    "print(values)"
   ]
  },
  {
   "cell_type": "code",
   "execution_count": 23,
   "metadata": {},
   "outputs": [
    {
     "name": "stdout",
     "output_type": "stream",
     "text": [
      "dict_items([('name', 'Deepesh'), ('age', 26), ('address', 'Mumbai')])\n"
     ]
    }
   ],
   "source": [
    "items=student.items() ## get all key value pairs\n",
    "print(items)"
   ]
  },
  {
   "cell_type": "code",
   "execution_count": 24,
   "metadata": {},
   "outputs": [
    {
     "name": "stdout",
     "output_type": "stream",
     "text": [
      "{'name': 'Deepesh', 'age': 26, 'address': 'Mumbai'}\n"
     ]
    }
   ],
   "source": [
    "## shallow copy\n",
    "student_copy=student\n",
    "print(student_copy)"
   ]
  },
  {
   "cell_type": "code",
   "execution_count": 25,
   "metadata": {},
   "outputs": [],
   "source": [
    "student['name']='deepesh1'"
   ]
  },
  {
   "cell_type": "code",
   "execution_count": 26,
   "metadata": {},
   "outputs": [
    {
     "name": "stdout",
     "output_type": "stream",
     "text": [
      "{'name': 'deepesh1', 'age': 26, 'address': 'Mumbai'}\n",
      "{'name': 'deepesh1', 'age': 26, 'address': 'Mumbai'}\n"
     ]
    }
   ],
   "source": [
    "print(student)\n",
    "print(student_copy)## values are same afer copying also"
   ]
  },
  {
   "cell_type": "code",
   "execution_count": 27,
   "metadata": {},
   "outputs": [
    {
     "name": "stdout",
     "output_type": "stream",
     "text": [
      "{'name': 'deepesh1', 'age': 26, 'address': 'Mumbai'}\n",
      "{'name': 'deepesh2', 'age': 26, 'address': 'Mumbai'}\n"
     ]
    }
   ],
   "source": [
    "student_copy1=student.copy()\n",
    "student['name']='deepesh2'\n",
    "print(student_copy1)\n",
    "print(student)"
   ]
  },
  {
   "cell_type": "code",
   "execution_count": 28,
   "metadata": {},
   "outputs": [
    {
     "name": "stdout",
     "output_type": "stream",
     "text": [
      "name\n",
      "age\n",
      "address\n"
     ]
    }
   ],
   "source": [
    "## iterating over dict\n",
    "## using loops to iterate over dict keys,values,or items\n",
    "\n",
    "## iterating over keys\n",
    "for keys in student.keys():\n",
    "    print(keys)\n",
    "\n"
   ]
  },
  {
   "cell_type": "code",
   "execution_count": 29,
   "metadata": {},
   "outputs": [
    {
     "name": "stdout",
     "output_type": "stream",
     "text": [
      "deepesh2\n",
      "26\n",
      "Mumbai\n"
     ]
    }
   ],
   "source": [
    "## iterate over values\n",
    "for values in student.values():\n",
    "    print(values)"
   ]
  },
  {
   "cell_type": "code",
   "execution_count": 30,
   "metadata": {},
   "outputs": [
    {
     "name": "stdout",
     "output_type": "stream",
     "text": [
      "name:deepesh2\n",
      "age:26\n",
      "address:Mumbai\n"
     ]
    }
   ],
   "source": [
    "## iterate over pairs\n",
    "for key,value in student.items():\n",
    "    print(f\"{key}:{value}\")"
   ]
  },
  {
   "cell_type": "code",
   "execution_count": 31,
   "metadata": {},
   "outputs": [],
   "source": [
    "## nested dict\n",
    "students={\n",
    "    'student1':{'name':'Deepesh','age':25,'address':'Mumbai'},\n",
    "    'student2':{'name':'Akanksha','age':24,'address':'Mumbai'}\n",
    "}"
   ]
  },
  {
   "cell_type": "code",
   "execution_count": 32,
   "metadata": {},
   "outputs": [
    {
     "name": "stdout",
     "output_type": "stream",
     "text": [
      "{'student1': {'name': 'Deepesh', 'age': 25, 'address': 'Mumbai'}, 'student2': {'name': 'Akanksha', 'age': 24, 'address': 'Mumbai'}}\n"
     ]
    }
   ],
   "source": [
    "print(students)"
   ]
  },
  {
   "cell_type": "code",
   "execution_count": 33,
   "metadata": {},
   "outputs": [
    {
     "name": "stdout",
     "output_type": "stream",
     "text": [
      "25\n"
     ]
    }
   ],
   "source": [
    "## accessing \n",
    "print(students['student1']['age'])"
   ]
  },
  {
   "cell_type": "code",
   "execution_count": 35,
   "metadata": {},
   "outputs": [
    {
     "name": "stdout",
     "output_type": "stream",
     "text": [
      "student1:{'name': 'Deepesh', 'age': 25, 'address': 'Mumbai'}\n",
      "name:Deepesh\n",
      "age:25\n",
      "address:Mumbai\n",
      "student2:{'name': 'Akanksha', 'age': 24, 'address': 'Mumbai'}\n",
      "name:Akanksha\n",
      "age:24\n",
      "address:Mumbai\n"
     ]
    }
   ],
   "source": [
    "##iterating over nested dict\n",
    "for student_id,student_info in students.items():\n",
    "    print(f\"{student_id}:{student_info}\")\n",
    "    for key,value in student_info.items():\n",
    "        print(f\"{key}:{value}\")"
   ]
  },
  {
   "cell_type": "code",
   "execution_count": 37,
   "metadata": {},
   "outputs": [
    {
     "name": "stdout",
     "output_type": "stream",
     "text": [
      "{0: 0, 1: 1, 2: 4, 3: 9, 4: 16}\n"
     ]
    }
   ],
   "source": [
    "## dict comprehension\n",
    "square={x:x**2 for x in range(5)}\n",
    "print(square)"
   ]
  },
  {
   "cell_type": "code",
   "execution_count": 39,
   "metadata": {},
   "outputs": [
    {
     "name": "stdout",
     "output_type": "stream",
     "text": [
      "{0: 0, 2: 4, 4: 16, 6: 36, 8: 64}\n"
     ]
    }
   ],
   "source": [
    "## square of even number\n",
    "square_even={x:x**2 for x in range(10) if x%2==0}\n",
    "print(square_even)"
   ]
  },
  {
   "cell_type": "code",
   "execution_count": 40,
   "metadata": {},
   "outputs": [
    {
     "name": "stdout",
     "output_type": "stream",
     "text": [
      "{1: 1, 2: 1, 3: 1, 4: 1, 5: 2, 7: 1, 8: 1, 9: 1}\n"
     ]
    }
   ],
   "source": [
    "##practical examples\n",
    "\n",
    "## use a dict to count the frequency of elements and list\n",
    "numbers=[1,2,3,4,5,5,7,8,9]\n",
    "freq={}\n",
    "count=0\n",
    "for number in numbers:\n",
    "    if number in freq:\n",
    "        freq[number]+=1\n",
    "    else:\n",
    "        freq[number]=1\n",
    "\n",
    "print(freq)"
   ]
  },
  {
   "cell_type": "code",
   "execution_count": 41,
   "metadata": {},
   "outputs": [],
   "source": [
    "## merge 2 dict\n",
    "dict1 ={\"a\":1,\"b\":2}\n",
    "dict2={\"b\":3,\"c\":4}\n",
    "merged_dict={**dict1,**dict2}"
   ]
  },
  {
   "cell_type": "code",
   "execution_count": 42,
   "metadata": {},
   "outputs": [
    {
     "name": "stdout",
     "output_type": "stream",
     "text": [
      "{'a': 1, 'b': 3, 'c': 4}\n"
     ]
    }
   ],
   "source": [
    "print(merged_dict)"
   ]
  },
  {
   "cell_type": "code",
   "execution_count": null,
   "metadata": {},
   "outputs": [],
   "source": []
  }
 ],
 "metadata": {
  "kernelspec": {
   "display_name": ".myvenv",
   "language": "python",
   "name": "python3"
  },
  "language_info": {
   "codemirror_mode": {
    "name": "ipython",
    "version": 3
   },
   "file_extension": ".py",
   "mimetype": "text/x-python",
   "name": "python",
   "nbconvert_exporter": "python",
   "pygments_lexer": "ipython3",
   "version": "3.12.1"
  }
 },
 "nbformat": 4,
 "nbformat_minor": 2
}
