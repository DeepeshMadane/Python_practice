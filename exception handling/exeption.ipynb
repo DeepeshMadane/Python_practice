{
 "cells": [
  {
   "cell_type": "markdown",
   "metadata": {},
   "source": [
    "Understanding Exceptions\n",
    "\n",
    "Exception handling in python allows you to handle errors gracefully and take corrective actions without stopping the executiob of the program. The lesson will cover the basics of exceptions,including how to use except, else, and finally blocks\n",
    "\n",
    "What are exceptions?\n",
    "\n",
    "Exceptions are events that distrupts the normal flow of the program. They occur when an error is encountered during program execution. Common exceptions include:\n",
    "\n",
    "1) Zero DivisionError: Dividing by zero\n",
    "2) FileNotFoundError: File not found\n",
    "3) ValueError: Invalid value\n",
    "4) TypeError: Invalid type"
   ]
  },
  {
   "cell_type": "code",
   "execution_count": 1,
   "metadata": {},
   "outputs": [
    {
     "name": "stdout",
     "output_type": "stream",
     "text": [
      "Variable is not assign\n"
     ]
    }
   ],
   "source": [
    "##  exception try, except block\n",
    "try:\n",
    "    a=b\n",
    "except:\n",
    "    print(\"Variable is not assign\")"
   ]
  },
  {
   "cell_type": "code",
   "execution_count": 3,
   "metadata": {},
   "outputs": [
    {
     "name": "stdout",
     "output_type": "stream",
     "text": [
      "name 'b' is not defined\n"
     ]
    }
   ],
   "source": [
    "try:\n",
    "    a=b\n",
    "except NameError as ex:\n",
    "    print(ex)"
   ]
  },
  {
   "cell_type": "code",
   "execution_count": 4,
   "metadata": {},
   "outputs": [
    {
     "ename": "ZeroDivisionError",
     "evalue": "division by zero",
     "output_type": "error",
     "traceback": [
      "\u001b[1;31m---------------------------------------------------------------------------\u001b[0m",
      "\u001b[1;31mZeroDivisionError\u001b[0m                         Traceback (most recent call last)",
      "Cell \u001b[1;32mIn[4], line 1\u001b[0m\n\u001b[1;32m----> 1\u001b[0m result\u001b[38;5;241m=\u001b[39m\u001b[38;5;241;43m1\u001b[39;49m\u001b[38;5;241;43m/\u001b[39;49m\u001b[38;5;241;43m0\u001b[39;49m\n",
      "\u001b[1;31mZeroDivisionError\u001b[0m: division by zero"
     ]
    }
   ],
   "source": [
    "result=1/0"
   ]
  },
  {
   "cell_type": "code",
   "execution_count": 5,
   "metadata": {},
   "outputs": [
    {
     "name": "stdout",
     "output_type": "stream",
     "text": [
      "division by zero\n",
      "please enter the denomitor greater than zero\n"
     ]
    }
   ],
   "source": [
    "try:\n",
    "    result=1/0\n",
    "except ZeroDivisionError as ex:\n",
    "    print(ex)\n",
    "    print(\"please enter the denomitor greater than zero\")"
   ]
  },
  {
   "cell_type": "code",
   "execution_count": 7,
   "metadata": {},
   "outputs": [
    {
     "ename": "NameError",
     "evalue": "name 'b' is not defined",
     "output_type": "error",
     "traceback": [
      "\u001b[1;31m---------------------------------------------------------------------------\u001b[0m",
      "\u001b[1;31mNameError\u001b[0m                                 Traceback (most recent call last)",
      "Cell \u001b[1;32mIn[7], line 3\u001b[0m\n\u001b[0;32m      1\u001b[0m \u001b[38;5;28;01mtry\u001b[39;00m:\n\u001b[0;32m      2\u001b[0m     result\u001b[38;5;241m=\u001b[39m\u001b[38;5;241m1\u001b[39m\u001b[38;5;241m/\u001b[39m\u001b[38;5;241m2\u001b[39m\n\u001b[1;32m----> 3\u001b[0m     a\u001b[38;5;241m=\u001b[39m\u001b[43mb\u001b[49m\n\u001b[0;32m      4\u001b[0m \u001b[38;5;28;01mexcept\u001b[39;00m \u001b[38;5;167;01mZeroDivisionError\u001b[39;00m \u001b[38;5;28;01mas\u001b[39;00m ex:\n\u001b[0;32m      5\u001b[0m     \u001b[38;5;28mprint\u001b[39m(ex)\n",
      "\u001b[1;31mNameError\u001b[0m: name 'b' is not defined"
     ]
    }
   ],
   "source": [
    "# multiple error\n",
    "try:\n",
    "    result=1/2\n",
    "    a=b\n",
    "except ZeroDivisionError as ex:\n",
    "    print(ex)\n",
    "    print(\"please enter the denomitor greater than zero\")"
   ]
  },
  {
   "cell_type": "code",
   "execution_count": 9,
   "metadata": {},
   "outputs": [
    {
     "name": "stdout",
     "output_type": "stream",
     "text": [
      "name 'b' is not defined\n",
      "Main exception got caught here\n"
     ]
    }
   ],
   "source": [
    "try:\n",
    "    result=1/2\n",
    "    a=b\n",
    "except ZeroDivisionError as ex:\n",
    "    print(ex)\n",
    "    print(\"please enter the denomitor greater than zero\")\n",
    "except Exception as ex1:\n",
    "    print(ex1)\n",
    "    print(\"Main exception got caught here\")\n",
    "    "
   ]
  },
  {
   "cell_type": "code",
   "execution_count": 12,
   "metadata": {},
   "outputs": [
    {
     "name": "stdout",
     "output_type": "stream",
     "text": [
      "you cant divide by zero\n"
     ]
    }
   ],
   "source": [
    "## try,except,else\n",
    "try:\n",
    "    num=int(input(\"enter a number\"))\n",
    "    result=10/num\n",
    "except ValueError:\n",
    "    print(\"this is not a valid number\")\n",
    "except ZeroDivisionError:\n",
    "    print(\"you cant divide by zero\")\n",
    "except Exception as ex:\n",
    "    print(ex)\n",
    "else:## if try block exceute then only it will execute\n",
    "    print(f\"the result is {result}\")"
   ]
  },
  {
   "cell_type": "code",
   "execution_count": 13,
   "metadata": {},
   "outputs": [
    {
     "name": "stdout",
     "output_type": "stream",
     "text": [
      "you cant divide by zero\n",
      "Execution complete\n"
     ]
    }
   ],
   "source": [
    "# try,except, else, and finally\n",
    "try:\n",
    "    num=int(input(\"enter a number\"))\n",
    "    result=10/num\n",
    "except ValueError:\n",
    "    print(\"this is not a valid number\")\n",
    "except ZeroDivisionError:\n",
    "    print(\"you cant divide by zero\")\n",
    "except Exception as ex:\n",
    "    print(ex)\n",
    "else:## if try block exceute then only it will execute\n",
    "    print(f\"the result is {result}\")\n",
    "finally: ## no matter what this will execute\n",
    "    print(\"Execution complete\")"
   ]
  },
  {
   "cell_type": "code",
   "execution_count": 14,
   "metadata": {},
   "outputs": [],
   "source": [
    "## example in real world\n",
    "## if handling a database to close the connection at end\n",
    "## we can use exception handling\n"
   ]
  },
  {
   "cell_type": "code",
   "execution_count": 18,
   "metadata": {},
   "outputs": [
    {
     "name": "stdout",
     "output_type": "stream",
     "text": [
      "\n",
      "file closed\n"
     ]
    }
   ],
   "source": [
    "## file handling and execption handling\n",
    "\n",
    "try:\n",
    "    with open('example.txt',mode='r')as file:\n",
    "        content=file.read()\n",
    "        print(content)\n",
    "except FileNotFoundError:\n",
    "    print(\"File not found does not exists\")\n",
    "except Exception as ex:\n",
    "    print('ex')\n",
    "finally:\n",
    "    if 'file' in locals() or not file.closed():\n",
    "        file.close()\n",
    "        print('file closed')"
   ]
  },
  {
   "cell_type": "code",
   "execution_count": 22,
   "metadata": {},
   "outputs": [
    {
     "name": "stdout",
     "output_type": "stream",
     "text": [
      "Invalid number\n",
      "conversion attempt complete\n",
      "Code is attempted\n"
     ]
    }
   ],
   "source": [
    "def str(s):\n",
    "    try:\n",
    "        try:\n",
    "            num=int(s)\n",
    "        except ValueError:\n",
    "            print(\"Invalid number\")\n",
    "            num=None\n",
    "        finally:\n",
    "            print(\"conversion attempt complete\")\n",
    "        if num is not None:\n",
    "            try:\n",
    "                result=10/num\n",
    "            except ZeroDivisionError:\n",
    "                print('Zero cannot be divided by any number please enter a number which is not zero')\n",
    "            finally:\n",
    "                print(\"Division attempt complete\")\n",
    "            return result\n",
    "    finally:\n",
    "        print('Code is attempted')\n",
    "\n",
    "s=input('enter a number')\n",
    "str(s)\n",
    "    "
   ]
  },
  {
   "cell_type": "code",
   "execution_count": 28,
   "metadata": {},
   "outputs": [
    {
     "name": "stdout",
     "output_type": "stream",
     "text": [
      "Index error list index out of range\n",
      "Execution Complete\n"
     ]
    }
   ],
   "source": [
    "def list_index(index,lst):\n",
    "    try:\n",
    "        element=lst[index]\n",
    "    except IndexError as e:\n",
    "        print(f\"Index error {e}\")\n",
    "        element=None\n",
    "    finally:\n",
    "        print(\"Execution Complete\")\n",
    "    return element\n",
    "\n",
    "lst=[1,22,33,44,55,66]\n",
    "index=9\n",
    "list_index(index,lst)"
   ]
  },
  {
   "cell_type": "code",
   "execution_count": null,
   "metadata": {},
   "outputs": [],
   "source": []
  }
 ],
 "metadata": {
  "kernelspec": {
   "display_name": ".myvenv",
   "language": "python",
   "name": "python3"
  },
  "language_info": {
   "codemirror_mode": {
    "name": "ipython",
    "version": 3
   },
   "file_extension": ".py",
   "mimetype": "text/x-python",
   "name": "python",
   "nbconvert_exporter": "python",
   "pygments_lexer": "ipython3",
   "version": "3.12.1"
  }
 },
 "nbformat": 4,
 "nbformat_minor": 2
}
